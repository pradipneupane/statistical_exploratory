{
 "cells": [
  {
   "cell_type": "code",
   "execution_count": 1,
   "outputs": [],
   "source": [
    "import pandas as pd\n",
    "import numpy as np\n",
    "import matplotlib.pyplot as plt\n"
   ],
   "metadata": {
    "collapsed": false,
    "pycharm": {
     "name": "#%%\n",
     "is_executing": false
    }
   }
  },
  {
   "cell_type": "markdown",
   "source": [
    "Test statistic is a basis of comparision between the what the hypothesis predict\n",
    "and what we actually we observed. \n",
    "p_value = the probability of observing a test statistic equally or more extreme than the one you observed, given that \n",
    "the null hypothesis is true.\n"
   ],
   "metadata": {
    "collapsed": false
   }
  },
  {
   "cell_type": "code",
   "execution_count": 11,
   "outputs": [],
   "source": [
    "'''\n",
    "Dataset used in this exploratory analysis is available in \n",
    "https://datadryad.org/resource/doi:10.5061/dryad.g6g3h\n",
    "'''\n",
    "\n",
    "df = pd.read_csv('beak_depth_1975_2012.txt', sep=' ')\n",
    "'''\n",
    "we have beak depth data for 1975 and 2012. Lets do ecdf plotting for both\n",
    "1975 and 2012 and see if we can find any difference in their beak-depth\n",
    "'''\n",
    "\n",
    "_beak1975 = df.loc[df['year'] == 1975, ['beak_depth']].values.ravel()\n",
    "_beak2012 = df.loc[df['year'] == 2012, ['beak_depth']].values.ravel()\n",
    "\n",
    "# write a function for ecdf\n",
    "def cal_ecdf(values):\n",
    "    x_axis = np.sort(values)\n",
    "    y_axis = np.arange(1, len(values) + 1) / len(values)\n",
    "    \n",
    "    return x_axis, y_axis"
   ],
   "metadata": {
    "collapsed": false,
    "pycharm": {
     "name": "#%%\n",
     "is_executing": false
    }
   }
  },
  {
   "cell_type": "code",
   "execution_count": 12,
   "outputs": [
    {
     "data": {
      "text/plain": "<Figure size 432x288 with 1 Axes>",
      "image/png": "[encoded data removed]"
     },
     "metadata": {
      "needs_background": "light"
     },
     "output_type": "display_data"
    }
   ],
   "source": [
    "x_1975, y_1975 = cal_ecdf(_beak1975)\n",
    "x_2012, y_2012 = cal_ecdf(_beak2012)\n",
    "\n",
    "plt.plot(x_1975, y_1975, marker='.', linestyle = 'none')\n",
    "plt.plot(x_2012, y_2012, marker ='.', linestyle = 'none')\n",
    "plt.margins(0.20)\n",
    "plt.xlabel('beaks_depth in mm')\n",
    "plt.ylabel('ecdf')\n",
    "plt.legend(('1975', '2012'), loc='lower right')\n",
    "plt.show()\n"
   ],
   "metadata": {
    "collapsed": false,
    "pycharm": {
     "name": "#%%\n",
     "is_executing": false
    }
   }
  },
  {
   "cell_type": "markdown",
   "source": [
    "From above graph, we can see there is clearly a difference between 1975 and 2012\n",
    "beak depth. 2012 beak_depth is more variant and also mean value looks higher. Lets\n",
    "validate this using further exploratory analysis. \n",
    "\n",
    "I am considering hypothesis that, both the mean from 1975 and 2012 for \n",
    "a beak_depth is equal. There is no change and difference we see in the above\n",
    "ecdf is because simply due to the random value. Lets try to prove this. "
   ],
   "metadata": {
    "collapsed": false
   }
  },
  {
   "cell_type": "code",
   "execution_count": 4,
   "outputs": [],
   "source": [
    "overall_mean = df['beak_depth'].mean()\n",
    "\n",
    "# we have overall mean now, lets try to shift values for 1975 and 2012 in \n",
    "# such a way that, both of these values have same mean\n",
    "\n",
    "_beak1975_shifted = _beak1975 - np.mean(_beak1975) + overall_mean\n",
    "_beak2012_shifted = _beak2012 - np.mean(_beak2012) + overall_mean\n",
    "\n",
    "def bootstrap_replicate_1d(data, func):\n",
    "    return func(np.random.choice(data, size=len(data)))\n",
    "\n",
    "def calculate_bootstrap(data, function, arraysize):\n",
    "    replicates = np.zeros(arraysize)\n",
    "    \n",
    "    for i in range(arraysize):\n",
    "        replicates[i] = bootstrap_replicate_1d(data, function)\n",
    "    \n",
    "    return replicates\n"
   ],
   "metadata": {
    "collapsed": false,
    "pycharm": {
     "name": "#%%\n",
     "is_executing": false
    }
   }
  },
  {
   "cell_type": "code",
   "execution_count": 10,
   "outputs": [
    {
     "name": "stdout",
     "text": [
      "p_value is: 0.0008\n"
     ],
     "output_type": "stream"
    }
   ],
   "source": [
    "# lets do bootstrap replicates for 5000 times for these recently created shifted values\n",
    "# using function above\n",
    "\n",
    "replicated_1975 = calculate_bootstrap(_beak1975_shifted, np.mean, 5000)\n",
    "replicated_2012 = calculate_bootstrap(_beak2012_shifted, np.mean, 5000)\n",
    "\n",
    "# difference in replicated bootstrap values mean \n",
    "replicated_diff = (replicated_2012 - replicated_1975)\n",
    "\n",
    "original_meandf = np.mean(_beak2012) - np.mean(_beak1975)\n",
    "\n",
    "# caculate p_value\n",
    "p_value = np.sum(replicated_diff >= original_meandf) / len(replicated_diff)\n",
    "\n",
    "print('p_value is:',  p_value)\n"
   ],
   "metadata": {
    "collapsed": false,
    "pycharm": {
     "name": "#%%\n",
     "is_executing": false
    }
   }
  },
  {
   "cell_type": "markdown",
   "source": [
    "Our initial hypothesis was There is no change and difference in the beak_depths. We see those\n",
    "change in ECDF because of simply random values.\n",
    "\n",
    "However, We get very small p-values which makes it clearer that we should reject our initial hypothesis.\n",
    "This gives a clear indication that, there is significant change in the beak_depth. "
   ],
   "metadata": {
    "collapsed": false
   }
  }
 ],
 "metadata": {
  "language_info": {
   "codemirror_mode": {
    "name": "ipython",
    "version": 2
   },
   "file_extension": ".py",
   "mimetype": "text/x-python",
   "name": "python",
   "nbconvert_exporter": "python",
   "pygments_lexer": "ipython2",
   "version": "2.7.6"
  },
  "kernelspec": {
   "name": "python3",
   "language": "python",
   "display_name": "Python 3"
  },
  "pycharm": {
   "stem_cell": {
    "cell_type": "raw",
    "source": [],
    "metadata": {
     "collapsed": false
    }
   }
  }
 },
 "nbformat": 4,
 "nbformat_minor": 0
}