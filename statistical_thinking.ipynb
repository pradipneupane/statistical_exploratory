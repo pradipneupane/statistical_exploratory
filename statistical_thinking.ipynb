{
 "cells": [
  {
   "cell_type": "code",
   "execution_count": 3,
   "metadata": {
    "collapsed": true,
    "pycharm": {
     "is_executing": false
    }
   },
   "outputs": [
    {
     "name": "stdout",
     "text": [
      "<class 'pandas.core.frame.DataFrame'>\n"
     ],
     "output_type": "stream"
    }
   ],
   "source": [
    "import pandas as pd\n",
    "import matplotlib.pyplot as plt\n",
    "import seaborn as sns\n"
   ]
  },
  {
   "cell_type": "code",
   "execution_count": 5,
   "outputs": [
    {
     "name": "stdout",
     "text": [
      "  state                                       county  total_votes  dem_votes  \\\n0    AK    State House District 8, Denali-University        10320       4995   \n1    AK  State House District 37, Bristol Bay-Aleuti         4665       1868   \n2    AK  State House District 12, Richardson-Glenn H         7589       1914   \n3    AK      State House District 13, Greater Palmer        11526       2800   \n4    AK     State House District 14, Greater Wasilla        10456       2132   \n\n   rep_votes  other_votes  dem_share east_west  \n0       4983          342      50.06      west  \n1       2661          136      41.24      west  \n2       5467          208      25.93      west  \n3       8432          294      24.93      west  \n4       8108          216      20.82      west  \n"
     ],
     "output_type": "stream"
    }
   ],
   "source": [
    "'''\n",
    "dataset loaded from https://assets.datacamp.com/production/repositories/469/datasets/8fb59b9a99957c3b9b1c82b623aea54d8ccbcd9f/2008_all_states.csv\n",
    "'''\n",
    "\n",
    "df = pd.read_csv('https://assets.datacamp.com/production/repositories/469/datasets/8fb59b9a99957c3b9b1c82b623aea54d8ccbcd9f/2008_all_states.csv')\n",
    "\n",
    "print(df.head())\n"
   ],
   "metadata": {
    "collapsed": false,
    "pycharm": {
     "name": "#%%\n",
     "is_executing": false
    }
   }
  }
 ],
 "metadata": {
  "language_info": {
   "codemirror_mode": {
    "name": "ipython",
    "version": 2
   },
   "file_extension": ".py",
   "mimetype": "text/x-python",
   "name": "python",
   "nbconvert_exporter": "python",
   "pygments_lexer": "ipython2",
   "version": "2.7.6"
  },
  "kernelspec": {
   "name": "python3",
   "language": "python",
   "display_name": "Python 3"
  },
  "pycharm": {
   "stem_cell": {
    "cell_type": "raw",
    "source": [],
    "metadata": {
     "collapsed": false
    }
   }
  }
 },
 "nbformat": 4,
 "nbformat_minor": 0
}